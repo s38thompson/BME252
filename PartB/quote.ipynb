{
 "cells": [
  {
   "cell_type": "code",
   "execution_count": null,
   "metadata": {},
   "outputs": [],
   "source": [
    "from scipy.io import wavfile\n",
    "from scipy.signal import resample\n",
    "import numpy as np\n",
    "import librosa\n",
    "\n",
    "sampleRate, data = wavfile.read(\"/Users/sydneythompson/Downloads/252.wav\")\n",
    "\n",
    "\n"
   ]
  },
  {
   "cell_type": "code",
   "execution_count": null,
   "metadata": {},
   "outputs": [],
   "source": [
    "# # Frequency domain Analysis\n",
    "# # Butterworth bandpass filter \n",
    "#     # min: lower cutoff frequency\n",
    "#     # max: upper cutoff frequency\n",
    "#     # sf: sampling frequency \n",
    "#     # order: order of filter\n",
    "#     # segemented_data: list of lists of overlapping samples from inital wav file\n",
    "# def butter_bandpass(segmented_data, min, max, sf, order):\n",
    "     \n",
    "#     # Set filter parameteres\n",
    "#     nyquist = 0.5 * sf\n",
    "#     low = min / nyquist\n",
    "#     high = max / nyquist\n",
    "#     b, a = butter(order, [low, high], btype='band')\n",
    "\n",
    "#     # filtered list \n",
    "#     filtered = []\n",
    "#     for segment in segmented_data:\n",
    "#         filtered_segment = lfilter(b, a, segment)\n",
    "#         filtered.append(filtered_segment)\n",
    "\n",
    "#     return filtered\n",
    "\n",
    "# filtered_data = butter_bandpass(segmented_data, 50.0, 7000.0, 16000.0, 5)\n",
    "\n",
    "# # Synthesis\n",
    "\n",
    "# duration = len(filtered_data) / 16000\n",
    "\n",
    "# # Calculate rms value of each segment \n",
    "# def Synthesis(filtered_data, duration):\n",
    "\n",
    "#     final_segments = []\n",
    "#     sf = 160000\n",
    "#     t = np.arange(0, duration, 1/sf)\n",
    "\n",
    "#     for segment in filtered_data:\n",
    "#         frequency = (low + high) / 2\n",
    "#         rmp = np.sqrt(np.mean(segment**2))\n",
    "#         sine = rmp*np.sin(np.pi*frequency*t)\n",
    "#         final_segments.append(sine)\n",
    "\n",
    "#     final_signal = np.sum(final_segments, axis=0)\n",
    "\n",
    "#     return final_signal\n",
    "\n",
    "# signal = Synthesis(filtered_data, duration)"
   ]
  }
 ],
 "metadata": {
  "language_info": {
   "name": "python"
  },
  "orig_nbformat": 4
 },
 "nbformat": 4,
 "nbformat_minor": 2
}
